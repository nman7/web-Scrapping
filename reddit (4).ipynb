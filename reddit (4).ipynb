{
  "nbformat": 4,
  "nbformat_minor": 0,
  "metadata": {
    "colab": {
      "name": "reddit.ipynb",
      "provenance": [],
      "collapsed_sections": []
    },
    "kernelspec": {
      "name": "python3",
      "display_name": "Python 3"
    }
  },
  "cells": [
    {
      "cell_type": "markdown",
      "metadata": {
        "id": "qa2mQyBju9PI",
        "colab_type": "text"
      },
      "source": [
        "**install dependency**"
      ]
    },
    {
      "cell_type": "code",
      "metadata": {
        "id": "shQTD9syIbBe",
        "colab_type": "code",
        "outputId": "96827cd8-d995-41a7-8f10-ee59a149eb1d",
        "colab": {
          "base_uri": "https://localhost:8080/",
          "height": 210
        }
      },
      "source": [
        "!pip install praw"
      ],
      "execution_count": 0,
      "outputs": [
        {
          "output_type": "stream",
          "text": [
            "Requirement already satisfied: praw in /usr/local/lib/python3.6/dist-packages (6.4.0)\n",
            "Requirement already satisfied: prawcore<2.0,>=1.0.1 in /usr/local/lib/python3.6/dist-packages (from praw) (1.0.1)\n",
            "Requirement already satisfied: update-checker>=0.16 in /usr/local/lib/python3.6/dist-packages (from praw) (0.16)\n",
            "Requirement already satisfied: websocket-client>=0.54.0 in /usr/local/lib/python3.6/dist-packages (from praw) (0.56.0)\n",
            "Requirement already satisfied: requests<3.0,>=2.6.0 in /usr/local/lib/python3.6/dist-packages (from prawcore<2.0,>=1.0.1->praw) (2.21.0)\n",
            "Requirement already satisfied: six in /usr/local/lib/python3.6/dist-packages (from websocket-client>=0.54.0->praw) (1.12.0)\n",
            "Requirement already satisfied: certifi>=2017.4.17 in /usr/local/lib/python3.6/dist-packages (from requests<3.0,>=2.6.0->prawcore<2.0,>=1.0.1->praw) (2019.9.11)\n",
            "Requirement already satisfied: chardet<3.1.0,>=3.0.2 in /usr/local/lib/python3.6/dist-packages (from requests<3.0,>=2.6.0->prawcore<2.0,>=1.0.1->praw) (3.0.4)\n",
            "Requirement already satisfied: urllib3<1.25,>=1.21.1 in /usr/local/lib/python3.6/dist-packages (from requests<3.0,>=2.6.0->prawcore<2.0,>=1.0.1->praw) (1.24.3)\n",
            "Requirement already satisfied: idna<2.9,>=2.5 in /usr/local/lib/python3.6/dist-packages (from requests<3.0,>=2.6.0->prawcore<2.0,>=1.0.1->praw) (2.8)\n"
          ],
          "name": "stdout"
        }
      ]
    },
    {
      "cell_type": "markdown",
      "metadata": {
        "id": "FxKjZn2mvWqp",
        "colab_type": "text"
      },
      "source": [
        "**import praw**"
      ]
    },
    {
      "cell_type": "code",
      "metadata": {
        "id": "7C6MkHmEIhRJ",
        "colab_type": "code",
        "colab": {}
      },
      "source": [
        "\n",
        "import praw"
      ],
      "execution_count": 0,
      "outputs": []
    },
    {
      "cell_type": "markdown",
      "metadata": {
        "id": "zDo7svOMveE6",
        "colab_type": "text"
      },
      "source": [
        "**let's  be open source follow below link to get your client id,secret key,user_agent**\n",
        "\n",
        "1.   visit https://gilberttanner.com/blog/scraping-redditdata \n",
        "\n",
        "2.   get your client id,client secret,user_agent and back to below code.\n"
      ]
    },
    {
      "cell_type": "code",
      "metadata": {
        "id": "arYEWSJPIiu9",
        "colab_type": "code",
        "colab": {}
      },
      "source": [
        "reddit = praw.Reddit(client_id='your c_id', client_secret='your c_secret', user_agent='your project name')"
      ],
      "execution_count": 0,
      "outputs": []
    },
    {
      "cell_type": "markdown",
      "metadata": {
        "id": "RGRAmSotwbHd",
        "colab_type": "text"
      },
      "source": [
        "\n",
        "\n",
        " **enter keyword to search post and extract comments of user with username** \n",
        "\n"
      ]
    },
    {
      "cell_type": "code",
      "metadata": {
        "id": "LxZI4v8DLio8",
        "colab_type": "code",
        "outputId": "331f20b7-c2f5-459c-92ec-d21c65c44498",
        "colab": {
          "base_uri": "https://localhost:8080/",
          "height": 52
        }
      },
      "source": [
        "print(\"enter keyword:\")\n",
        "b = input()\n",
        "l=[]\n",
        "k=[]\n",
        "d=[]\n",
        "from praw.models import MoreComments\n",
        "hot_posts = reddit.subreddit(b).hot(limit=10)\n",
        "for post in hot_posts:\n",
        "    submission = reddit.submission(id=post)\n",
        "    for top_level_comment in submission.comments:\n",
        "      for top_level_comment in submission.comments:\n",
        "        if isinstance(top_level_comment, MoreComments):\n",
        "          continue\n",
        "\n",
        "        l.append(top_level_comment.body)\n",
        "        #k.append(top_level_comment.id)\n",
        "        d.append(top_level_comment.author)"
      ],
      "execution_count": 0,
      "outputs": [
        {
          "output_type": "stream",
          "text": [
            "enter keyword:\n",
            "India\n"
          ],
          "name": "stdout"
        }
      ]
    },
    {
      "cell_type": "markdown",
      "metadata": {
        "id": "8TLSFr74yFDw",
        "colab_type": "text"
      },
      "source": [
        "**make Dataframe and print Data**"
      ]
    },
    {
      "cell_type": "code",
      "metadata": {
        "id": "IgNQHKIRLnSk",
        "colab_type": "code",
        "outputId": "0bad5904-1ca8-40c8-f11f-0a8ba6370ca4",
        "colab": {
          "base_uri": "https://localhost:8080/",
          "height": 138
        }
      },
      "source": [
        "import pandas as pd\n",
        "comment = pd.DataFrame(l)\n",
        "user = pd.DataFrame(d)\n",
        "#print(j.head())\n",
        "#print(j.shape)\n",
        "#print(j1.shape)\n",
        "#print(j1.head())\n",
        "x = pd.concat([user, comment], axis=1)\n",
        "x.columns = ['username','comments']\n",
        "x.to_csv(\"reddit.csv\")\n",
        "print(x.head())\n",
        "print(x.shape)"
      ],
      "execution_count": 0,
      "outputs": [
        {
          "output_type": "stream",
          "text": [
            "         username                                           comments\n",
            "0        IAmMohit  **Important articles/references on topic:**\\n\\...\n",
            "1  isocialoutcast  Can pretty much see everyone joining the \"they...\n",
            "2   hummusporotta                                 what the fuck guys\n",
            "3       ohdickens  The sooner people realize that the government ...\n",
            "4      Kronos_001     And yet no one will accept the responsibility.\n",
            "(18539, 2)\n"
          ],
          "name": "stdout"
        }
      ]
    },
    {
      "cell_type": "code",
      "metadata": {
        "id": "T7CTonmLL2xz",
        "colab_type": "code",
        "colab": {}
      },
      "source": [
        "\n"
      ],
      "execution_count": 0,
      "outputs": []
    },
    {
      "cell_type": "code",
      "metadata": {
        "id": "g8vKOQryRe9w",
        "colab_type": "code",
        "colab": {}
      },
      "source": [
        ""
      ],
      "execution_count": 0,
      "outputs": []
    },
    {
      "cell_type": "code",
      "metadata": {
        "id": "IcZOjeqVuYR7",
        "colab_type": "code",
        "colab": {}
      },
      "source": [
        ""
      ],
      "execution_count": 0,
      "outputs": []
    }
  ]
}
